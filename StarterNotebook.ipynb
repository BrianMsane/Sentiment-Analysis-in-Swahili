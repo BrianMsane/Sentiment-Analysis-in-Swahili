{
 "cells": [
  {
   "cell_type": "markdown",
   "metadata": {},
   "source": [
    "### EAST AFRICA VIRTUAL HACKATHON 2022: SWAHILI SENTIMENT ANALYSIS CHALLENGE"
   ]
  },
  {
   "cell_type": "markdown",
   "metadata": {},
   "source": [
    "## Let's Get Started "
   ]
  },
  {
   "cell_type": "code",
   "execution_count": null,
   "metadata": {
    "ExecuteTime": {
     "end_time": "2022-01-12T19:41:42.833777Z",
     "start_time": "2022-01-12T19:41:42.826173Z"
    }
   },
   "outputs": [],
   "source": [
    "# import important modules\n",
    "import numpy as np\n",
    "import pandas as pd\n",
    "\n",
    "# sklearn modules\n",
    "from sklearn.model_selection import train_test_split\n",
    "from sklearn.model_selection import cross_val_score\n",
    "from sklearn.ensemble import RandomForestClassifier #classifier\n",
    "\n",
    "from sklearn.metrics import accuracy_score #evaluation metric\n",
    "from sklearn.feature_extraction.text import CountVectorizer\n",
    "\n",
    "# text preprocessing modules\n",
    "import re \n",
    "from string import punctuation \n",
    "\n",
    "import warnings\n",
    "warnings.filterwarnings(\"ignore\")\n",
    "# seeding\n",
    "np.random.seed(123)"
   ]
  },
  {
   "cell_type": "code",
   "execution_count": null,
   "metadata": {
    "ExecuteTime": {
     "end_time": "2022-01-12T19:41:42.856604Z",
     "start_time": "2022-01-12T19:41:42.838103Z"
    }
   },
   "outputs": [],
   "source": [
    "# load data\n",
    "path = ''\n",
    "train = pd.read_csv(path+\"train.csv\")\n",
    "test = pd.read_csv(path+\"test.csv\")\n",
    "submission = pd.read_csv(path+\"sample_submission.csv\")"
   ]
  },
  {
   "cell_type": "code",
   "execution_count": null,
   "metadata": {
    "ExecuteTime": {
     "end_time": "2022-01-12T19:41:42.864569Z",
     "start_time": "2022-01-12T19:41:42.857858Z"
    }
   },
   "outputs": [],
   "source": [
    "# show top five rows of train data\n",
    "train.head() "
   ]
  },
  {
   "cell_type": "code",
   "execution_count": null,
   "metadata": {
    "ExecuteTime": {
     "end_time": "2022-01-12T19:41:42.875847Z",
     "start_time": "2022-01-12T19:41:42.868335Z"
    }
   },
   "outputs": [],
   "source": [
    "# show top five rows of test data\n",
    "test.head()"
   ]
  },
  {
   "cell_type": "code",
   "execution_count": null,
   "metadata": {
    "ExecuteTime": {
     "end_time": "2022-01-12T19:41:42.885290Z",
     "start_time": "2022-01-12T19:41:42.877150Z"
    }
   },
   "outputs": [],
   "source": [
    "# show top five rows of submision file\n",
    "submission.head()"
   ]
  },
  {
   "cell_type": "code",
   "execution_count": null,
   "metadata": {
    "ExecuteTime": {
     "end_time": "2022-01-12T19:41:42.890720Z",
     "start_time": "2022-01-12T19:41:42.886858Z"
    }
   },
   "outputs": [],
   "source": [
    "# check the shape of the train data\n",
    "train.shape"
   ]
  },
  {
   "cell_type": "code",
   "execution_count": null,
   "metadata": {
    "ExecuteTime": {
     "end_time": "2022-01-12T19:41:42.894859Z",
     "start_time": "2022-01-12T19:41:42.891897Z"
    }
   },
   "outputs": [],
   "source": [
    "# check the shape of the test data\n",
    "test.shape"
   ]
  },
  {
   "cell_type": "code",
   "execution_count": null,
   "metadata": {
    "ExecuteTime": {
     "end_time": "2022-01-12T19:41:42.900890Z",
     "start_time": "2022-01-12T19:41:42.896092Z"
    }
   },
   "outputs": [],
   "source": [
    "# check missing values in train data\n",
    "train.isnull().sum()"
   ]
  },
  {
   "cell_type": "code",
   "execution_count": null,
   "metadata": {
    "ExecuteTime": {
     "end_time": "2022-01-12T19:41:42.905677Z",
     "start_time": "2022-01-12T19:41:42.902056Z"
    }
   },
   "outputs": [],
   "source": [
    "# check missing values in test data\n",
    "test.isnull().sum()"
   ]
  },
  {
   "cell_type": "code",
   "execution_count": null,
   "metadata": {
    "ExecuteTime": {
     "end_time": "2022-01-12T19:41:42.911869Z",
     "start_time": "2022-01-12T19:41:42.908067Z"
    }
   },
   "outputs": [],
   "source": [
    "# evalute Labels distribution\n",
    "train.Labels.value_counts()"
   ]
  },
  {
   "cell_type": "markdown",
   "metadata": {},
   "source": [
    "### Data Preparation "
   ]
  },
  {
   "cell_type": "code",
   "execution_count": null,
   "metadata": {
    "ExecuteTime": {
     "end_time": "2022-01-12T19:41:42.915756Z",
     "start_time": "2022-01-12T19:41:42.912695Z"
    }
   },
   "outputs": [],
   "source": [
    "# a simple function to clean text data \n",
    "\n",
    "def text_cleaning(text):\n",
    "    # Clean the text data\n",
    "\n",
    "    text = re.sub(r\"[^A-Za-z0-9]\", \" \", text)\n",
    "    text = re.sub(r'\\b\\d+(?:\\.\\d+)?\\s+', '', text) # remove numbers\n",
    "    text = text.lower()  # set in lowercase \n",
    "        \n",
    "    # Remove punctuation from text\n",
    "    text = ''.join([c for c in text if c not in punctuation])\n",
    "        \n",
    "    # Return a list of words\n",
    "    return(text)"
   ]
  },
  {
   "cell_type": "code",
   "execution_count": null,
   "metadata": {
    "ExecuteTime": {
     "end_time": "2022-01-12T19:41:42.960586Z",
     "start_time": "2022-01-12T19:41:42.917151Z"
    }
   },
   "outputs": [],
   "source": [
    "#clean the train and test data\n",
    "train[\"Tweets\"] = train[\"Tweets\"].apply(text_cleaning)\n",
    "test[\"Tweets\"] = test[\"Tweets\"].apply(text_cleaning)"
   ]
  },
  {
   "cell_type": "code",
   "execution_count": null,
   "metadata": {
    "ExecuteTime": {
     "end_time": "2022-01-12T19:41:42.963679Z",
     "start_time": "2022-01-12T19:41:42.961488Z"
    }
   },
   "outputs": [],
   "source": [
    "#split features and target from train data \n",
    "X = train[\"Tweets\"]\n",
    "y = train.Labels.values"
   ]
  },
  {
   "cell_type": "code",
   "execution_count": null,
   "metadata": {
    "ExecuteTime": {
     "end_time": "2022-01-12T19:41:43.031194Z",
     "start_time": "2022-01-12T19:41:42.964444Z"
    }
   },
   "outputs": [],
   "source": [
    "# Transform text data \n",
    "vectorizer = CountVectorizer(lowercase=False)\n",
    "\n",
    "vectorizer.fit(X)\n",
    "\n",
    "#transform train data \n",
    "X_transformed = vectorizer.transform(X)\n",
    "\n",
    "#transform test data\n",
    "test_transformed = vectorizer.transform(test[\"Tweets\"])"
   ]
  },
  {
   "cell_type": "code",
   "execution_count": null,
   "metadata": {
    "ExecuteTime": {
     "end_time": "2022-01-12T19:41:43.036155Z",
     "start_time": "2022-01-12T19:41:43.032102Z"
    }
   },
   "outputs": [],
   "source": [
    "# split data into train and validate\n",
    "\n",
    "X_train, X_valid, y_train, y_valid = train_test_split(\n",
    "    X_transformed,\n",
    "    y,\n",
    "    test_size=0.10,\n",
    "    random_state=42,\n",
    "    shuffle=True,\n",
    "    stratify=y,\n",
    ")"
   ]
  },
  {
   "cell_type": "markdown",
   "metadata": {},
   "source": [
    "### Create Classifier "
   ]
  },
  {
   "cell_type": "code",
   "execution_count": null,
   "metadata": {
    "ExecuteTime": {
     "end_time": "2022-01-12T19:41:43.038724Z",
     "start_time": "2022-01-12T19:41:43.036860Z"
    }
   },
   "outputs": [],
   "source": [
    "# Create a classifier\n",
    "tweets_classifier = RandomForestClassifier() "
   ]
  },
  {
   "cell_type": "code",
   "execution_count": null,
   "metadata": {
    "ExecuteTime": {
     "end_time": "2022-01-12T19:41:45.472520Z",
     "start_time": "2022-01-12T19:41:43.039529Z"
    }
   },
   "outputs": [],
   "source": [
    "# train the tweets_classifier \n",
    "tweets_classifier.fit(X_train,y_train)"
   ]
  },
  {
   "cell_type": "code",
   "execution_count": null,
   "metadata": {
    "ExecuteTime": {
     "end_time": "2022-01-12T19:41:45.497018Z",
     "start_time": "2022-01-12T19:41:45.473390Z"
    }
   },
   "outputs": [],
   "source": [
    "# test model performance on valid data \n",
    "y_preds = tweets_classifier.predict(X_valid)"
   ]
  },
  {
   "cell_type": "code",
   "execution_count": null,
   "metadata": {
    "ExecuteTime": {
     "end_time": "2022-01-12T19:41:45.502101Z",
     "start_time": "2022-01-12T19:41:45.498197Z"
    }
   },
   "outputs": [],
   "source": [
    "# evalute model performance by using accuracy_score in the validation data\n",
    "accuracy_score(y_valid, y_preds) "
   ]
  },
  {
   "cell_type": "code",
   "execution_count": null,
   "metadata": {
    "ExecuteTime": {
     "end_time": "2022-01-12T19:41:45.554717Z",
     "start_time": "2022-01-12T19:41:45.503467Z"
    }
   },
   "outputs": [],
   "source": [
    "# create prediction from the test data\n",
    "test_preds = tweets_classifier.predict(test_transformed)"
   ]
  },
  {
   "cell_type": "markdown",
   "metadata": {},
   "source": [
    "### Create Submission File"
   ]
  },
  {
   "cell_type": "code",
   "execution_count": null,
   "metadata": {
    "ExecuteTime": {
     "end_time": "2022-01-12T19:41:45.558236Z",
     "start_time": "2022-01-12T19:41:45.555534Z"
    }
   },
   "outputs": [],
   "source": [
    "# create submission file \n",
    "submission[\"Labels\"] = test_preds"
   ]
  },
  {
   "cell_type": "code",
   "execution_count": null,
   "metadata": {
    "ExecuteTime": {
     "end_time": "2022-01-12T19:41:45.564225Z",
     "start_time": "2022-01-12T19:41:45.559638Z"
    }
   },
   "outputs": [],
   "source": [
    "# show sample submissoin rows\n",
    "submission.head() "
   ]
  },
  {
   "cell_type": "code",
   "execution_count": null,
   "metadata": {
    "ExecuteTime": {
     "end_time": "2022-01-12T19:41:45.568870Z",
     "start_time": "2022-01-12T19:41:45.565121Z"
    }
   },
   "outputs": [],
   "source": [
    "# save submission file \n",
    "submission.to_csv(path+\"first_submission.csv\",index=False) "
   ]
  },
  {
   "cell_type": "markdown",
   "metadata": {},
   "source": [
    "Now upload your first submssion file on the hackathon page 👍"
   ]
  }
 ],
 "metadata": {
  "hide_input": false,
  "kernelspec": {
   "display_name": "Python 3 (ipykernel)",
   "language": "python",
   "name": "python3"
  },
  "language_info": {
   "codemirror_mode": {
    "name": "ipython",
    "version": 3
   },
   "file_extension": ".py",
   "mimetype": "text/x-python",
   "name": "python",
   "nbconvert_exporter": "python",
   "pygments_lexer": "ipython3",
   "version": "3.12.2"
  },
  "toc": {
   "base_numbering": 1,
   "nav_menu": {},
   "number_sections": true,
   "sideBar": true,
   "skip_h1_title": false,
   "title_cell": "Table of Contents",
   "title_sidebar": "Contents",
   "toc_cell": false,
   "toc_position": {},
   "toc_section_display": true,
   "toc_window_display": false
  }
 },
 "nbformat": 4,
 "nbformat_minor": 4
}
